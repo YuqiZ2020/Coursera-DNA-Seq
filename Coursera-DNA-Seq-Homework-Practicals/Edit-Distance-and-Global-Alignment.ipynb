{
 "cells": [
  {
   "cell_type": "code",
   "execution_count": 2,
   "metadata": {},
   "outputs": [],
   "source": [
    "def editDistance(word1: str, word2: str) -> int:\n",
    "        row = len(word1)\n",
    "        col = len(word2)\n",
    "        if row == 0:\n",
    "            return col\n",
    "        if col == 0:\n",
    "            return row\n",
    "        dp = [[0] * (col + 1) for _ in range(row + 1)]\n",
    "        for i in range(row + 1):\n",
    "            dp[i][0] = i\n",
    "        for i in range(col + 1):\n",
    "            dp[0][i] = i\n",
    "        for i in range(1, row + 1):\n",
    "            for j in range(1, col + 1):\n",
    "                if word1[i - 1] == word2[j - 1]:\n",
    "                    replace = dp[i - 1][j - 1]\n",
    "                else:\n",
    "                    replace = dp[i - 1][j - 1] + 1\n",
    "                dp[i][j] = min(dp[i - 1][j] + 1, dp[i][j - 1] + 1, replace)\n",
    "        return dp[row][col]"
   ]
  },
  {
   "cell_type": "code",
   "execution_count": 3,
   "metadata": {},
   "outputs": [
    {
     "data": {
      "text/plain": [
       "2"
      ]
     },
     "execution_count": 3,
     "metadata": {},
     "output_type": "execute_result"
    }
   ],
   "source": [
    "editDistance(\"ATCG\", \"GTCGA\")"
   ]
  },
  {
   "cell_type": "code",
   "execution_count": 4,
   "metadata": {},
   "outputs": [],
   "source": [
    "alphabet = ['A', 'C', 'G', 'T']\n",
    "score = [[0, 4, 2, 4, 8],\n",
    "         [4, 0, 4, 2, 8],\n",
    "         [2, 4, 0, 4, 8],\n",
    "         [4, 2, 4, 0, 8],\n",
    "         [8, 8, 8, 8, 8]]"
   ]
  },
  {
   "cell_type": "code",
   "execution_count": 9,
   "metadata": {},
   "outputs": [],
   "source": [
    "def globalAlignment(word1, word2):\n",
    "    row = len(word1)\n",
    "    col = len(word2)\n",
    "    dp = [[0] * (col + 1) for _ in range(row + 1)]\n",
    "    for i in range(1, row + 1):\n",
    "            dp[i][0] = dp[i - 1][0] + score[alphabet.index(word1[i - 1])][-1]\n",
    "    for i in range(1, col + 1):\n",
    "            dp[0][i] = dp[0][i - 1] + score[alphabet.index(word2[i - 1])][-1]\n",
    "    for i in range(1, row + 1):\n",
    "            for j in range(1, col + 1):\n",
    "                if word1[i - 1] == word2[j - 1]:\n",
    "                    replace = dp[i - 1][j - 1]\n",
    "                else:\n",
    "                    replace = dp[i - 1][j - 1] + score[alphabet.index(word1[i - 1])][alphabet.index(word2[j - 1])]\n",
    "                dp[i][j] = min(dp[i - 1][j] + score[alphabet.index(word1[i - 1])][-1], dp[i][j - 1] + score[alphabet.index(word2[j - 1])][-1], replace)\n",
    "    return dp[row][col]\n"
   ]
  },
  {
   "cell_type": "code",
   "execution_count": 8,
   "metadata": {},
   "outputs": [
    {
     "name": "stdout",
     "output_type": "stream",
     "text": [
      "12\n"
     ]
    }
   ],
   "source": [
    "x = 'TATGTCATGC'\n",
    "y = 'TATGGCAGC'\n",
    "print(globalAlignment(x,y))"
   ]
  }
 ],
 "metadata": {
  "kernelspec": {
   "display_name": "Python 3",
   "language": "python",
   "name": "python3"
  },
  "language_info": {
   "codemirror_mode": {
    "name": "ipython",
    "version": 3
   },
   "file_extension": ".py",
   "mimetype": "text/x-python",
   "name": "python",
   "nbconvert_exporter": "python",
   "pygments_lexer": "ipython3",
   "version": "3.8.1"
  }
 },
 "nbformat": 4,
 "nbformat_minor": 4
}
