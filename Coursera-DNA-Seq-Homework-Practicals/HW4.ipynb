{
 "cells": [
  {
   "cell_type": "code",
   "execution_count": 15,
   "metadata": {},
   "outputs": [],
   "source": [
    "def overlap(first, second, min_len = 3):\n",
    "    start = 0\n",
    "    while (start < len(first) - min_len + 1):\n",
    "        start = first.find(second[:min_len], start)\n",
    "        if (start == -1):\n",
    "            return 0\n",
    "        if second.startswith(first[start:]):\n",
    "            return len(first) - start\n",
    "        start += 1\n",
    "\n",
    "import itertools\n",
    "\n",
    "import itertools\n",
    "\n",
    "def scs(ss):\n",
    "    \"\"\" Returns shortest common superstring of given\n",
    "        strings, which must be the same length \"\"\"\n",
    "    shortest_sup = None\n",
    "    for ssperm in itertools.permutations(ss):\n",
    "        sup = ssperm[0]  # superstring starts as first string\n",
    "        for i in range(len(ss)-1):\n",
    "            # overlap adjacent strings A and B in the permutation\n",
    "            olen = overlap(ssperm[i], ssperm[i+1], 1)\n",
    "            # add non-overlapping portion of B to superstring\n",
    "            sup += ssperm[i+1][olen:]\n",
    "        if shortest_sup is None or len(sup) < len(shortest_sup):\n",
    "            shortest_sup = sup  # found shorter superstring\n",
    "    return shortest_sup  # return shortest\n"
   ]
  },
  {
   "cell_type": "code",
   "execution_count": 19,
   "metadata": {},
   "outputs": [],
   "source": [
    "def scs_all(ss):\n",
    "    \"\"\" Returns shortest common superstring of given\n",
    "        strings, which must be the same length \"\"\"\n",
    "    shortest_sup = None\n",
    "    sets_shortest_sup = {}\n",
    "    for ssperm in itertools.permutations(ss):\n",
    "        sup = ssperm[0]  # superstring starts as first string\n",
    "        for i in range(len(ss)-1):\n",
    "            # overlap adjacent strings A and B in the permutation\n",
    "            olen = overlap(ssperm[i], ssperm[i+1], 1)\n",
    "            # add non-overlapping portion of B to superstring\n",
    "            sup += ssperm[i+1][olen:]\n",
    "        if shortest_sup is None or len(sup) < len(shortest_sup):\n",
    "            sets_shortest_sup = {sup}\n",
    "            shortest_sup = sup  # found shorter superstring\n",
    "        elif len(sup) == len(shortest_sup):\n",
    "              sets_shortest_sup.add(sup)\n",
    "    return sets_shortest_sup  # return shortest"
   ]
  },
  {
   "cell_type": "code",
   "execution_count": 56,
   "metadata": {},
   "outputs": [
    {
     "name": "stdout",
     "output_type": "stream",
     "text": [
      "CCTTGGATTGC\n",
      "11\n"
     ]
    }
   ],
   "source": [
    "# Question 1\n",
    "strs = ['CCT', 'CTT', 'TGC', 'TGG', 'GAT', 'ATT']\n",
    "print(scs(strs))\n",
    "print(len(scs(strs)))"
   ]
  },
  {
   "cell_type": "code",
   "execution_count": 57,
   "metadata": {},
   "outputs": [
    {
     "name": "stdout",
     "output_type": "stream",
     "text": [
      "{'CCTTGGATTGC', 'GATTGCCTTGG', 'TGGATTGCCTT', 'TGCCTTGGATT'}\n"
     ]
    }
   ],
   "source": [
    "# Question 2\n",
    "print(scs_all(strs))"
   ]
  },
  {
   "cell_type": "code",
   "execution_count": 52,
   "metadata": {},
   "outputs": [],
   "source": [
    "def buildSetsByKmer(reads, k = 30):\n",
    "    kmersLocation = {}\n",
    "    for i in range(len(reads)):\n",
    "        seq = reads[i]\n",
    "        for j in range(len(seq) - k + 1):\n",
    "            kmer = seq[j:j + k]\n",
    "            if kmer in kmersLocation:\n",
    "                idxList = kmersLocation.get(kmer)\n",
    "                idxList.add(i)\n",
    "                kmersLocation[kmer] = idxList\n",
    "            else:\n",
    "                kmersLocation[kmer] = set([i])\n",
    "    return kmersLocation\n",
    "\n",
    "def pick_maximal_overlap(reads, k):\n",
    "    \"\"\" Return a pair of reads from the list with a\n",
    "        maximal suffix/prefix overlap >= k.  Returns\n",
    "        overlap length 0 if there are no such overlaps.\"\"\"\n",
    "    kmerLoc = buildSetsByKmer(reads, k)\n",
    "    reada, readb = None, None\n",
    "    best_olen = 0\n",
    "    for i in range(len(reads)):\n",
    "        for j in kmerLoc[reads[i][-k:]]:\n",
    "            if i == j:\n",
    "                continue\n",
    "            olen = overlap(reads[i], reads[j], min_len=k)\n",
    "            if olen > best_olen:\n",
    "                reada, readb = reads[i], reads[j]\n",
    "                best_olen = olen\n",
    "    return reada, readb, best_olen\n",
    "\n",
    "def greedy_scs(reads, k):\n",
    "    \"\"\" Greedy shortest-common-superstring merge.\n",
    "        Repeat until no edges (overlaps of length >= k)\n",
    "        remain. \"\"\"\n",
    "    read_a, read_b, olen = pick_maximal_overlap(reads, k)\n",
    "    while olen > 0:\n",
    "        reads.remove(read_a)\n",
    "        reads.remove(read_b)\n",
    "        reads.append(read_a + read_b[olen:])\n",
    "        read_a, read_b, olen = pick_maximal_overlap(reads, k)\n",
    "    return ''.join(reads)"
   ]
  },
  {
   "cell_type": "code",
   "execution_count": 53,
   "metadata": {},
   "outputs": [],
   "source": [
    "def readFastq(filename):\n",
    "    sequences = []\n",
    "    qualities = []\n",
    "    with open(filename) as fh:\n",
    "        while True:\n",
    "            fh.readline()\n",
    "            seq = fh.readline().rstrip()\n",
    "            fh.readline()\n",
    "            qua = fh.readline().rstrip()\n",
    "            if len(seq) == 0:\n",
    "                break\n",
    "            sequences.append(seq)\n",
    "            qualities.append(qua)\n",
    "    return sequences, qualities"
   ]
  },
  {
   "cell_type": "code",
   "execution_count": 54,
   "metadata": {},
   "outputs": [
    {
     "name": "stdout",
     "output_type": "stream",
     "text": [
      "15894\n"
     ]
    }
   ],
   "source": [
    "# Question 3, 4\n",
    "reads, _ = readFastq('Wk4-Data/ads1_week4_reads.fq')\n",
    "assem_genome = greedy_scs(reads, 30)\n",
    "print(len(assem_genome))"
   ]
  },
  {
   "cell_type": "code",
   "execution_count": 55,
   "metadata": {},
   "outputs": [
    {
     "name": "stdout",
     "output_type": "stream",
     "text": [
      "Counter({'A': 4633, 'C': 3789, 'G': 3749, 'T': 3723})\n"
     ]
    }
   ],
   "source": [
    "# Question 3, 4\n",
    "import collections\n",
    "count = collections.Counter()\n",
    "count.update(assem_genome)\n",
    "print(count)"
   ]
  },
  {
   "cell_type": "code",
   "execution_count": null,
   "metadata": {},
   "outputs": [],
   "source": []
  }
 ],
 "metadata": {
  "kernelspec": {
   "display_name": "Python 3",
   "language": "python",
   "name": "python3"
  },
  "language_info": {
   "codemirror_mode": {
    "name": "ipython",
    "version": 3
   },
   "file_extension": ".py",
   "mimetype": "text/x-python",
   "name": "python",
   "nbconvert_exporter": "python",
   "pygments_lexer": "ipython3",
   "version": "3.8.1"
  }
 },
 "nbformat": 4,
 "nbformat_minor": 4
}
