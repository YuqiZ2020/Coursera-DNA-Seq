{
 "cells": [
  {
   "cell_type": "code",
   "execution_count": 1,
   "metadata": {},
   "outputs": [],
   "source": [
    "def readGenome(filename):\n",
    "    fullGenome = \"\"\n",
    "    with open(filename, 'r') as fh:\n",
    "        for line in fh:\n",
    "            if not (line[0] == '>'):\n",
    "                fullGenome += line.rstrip()\n",
    "    return fullGenome"
   ]
  },
  {
   "cell_type": "code",
   "execution_count": 2,
   "metadata": {},
   "outputs": [],
   "source": [
    "phix = readGenome(\"Wk1-Data/phix.fa\")"
   ]
  },
  {
   "cell_type": "code",
   "execution_count": 3,
   "metadata": {},
   "outputs": [
    {
     "name": "stdout",
     "output_type": "stream",
     "text": [
      "[0, 14, 24]\n"
     ]
    }
   ],
   "source": [
    "def naiveMatch(p, t):\n",
    "    occurances = []\n",
    "    for i in range(len(t) - len(p) + 1):\n",
    "        match = True\n",
    "        for j in range(len(p)):\n",
    "            if t[i + j] != p[j]:\n",
    "                match = False\n",
    "                break\n",
    "        if match:\n",
    "            occurances.append(i)\n",
    "    return occurances\n",
    "\n",
    "pattern = \"ACCT\"\n",
    "text = \"ACCTCATTGGCGATACCTACCGGCACCT\"\n",
    "print(naiveMatch(pattern, text))\n"
   ]
  },
  {
   "cell_type": "code",
   "execution_count": 4,
   "metadata": {},
   "outputs": [
    {
     "name": "stdout",
     "output_type": "stream",
     "text": [
      "['AC', 'CC', 'CT', 'CC', 'AC', 'CC', 'CC', 'AC', 'CT', 'AC']\n"
     ]
    }
   ],
   "source": [
    "import random\n",
    "def generateReads(genome, readAmount, readLen):\n",
    "    reads = []\n",
    "    for _ in range(readAmount):\n",
    "        # randint generate integers in the closed interval\n",
    "        start = random.randint(0, len(genome) - readLen)\n",
    "        reads.append(genome[start : start+readLen])\n",
    "    return reads\n",
    "\n",
    "print(generateReads(pattern, 10, 2))"
   ]
  },
  {
   "cell_type": "code",
   "execution_count": 5,
   "metadata": {},
   "outputs": [
    {
     "name": "stdout",
     "output_type": "stream",
     "text": [
      "100 / 100 reads matched\n"
     ]
    }
   ],
   "source": [
    "reads = generateReads(phix, 100, 100)\n",
    "numMatched = 0\n",
    "for r in reads:\n",
    "    o = naiveMatch(r, phix)\n",
    "    if (len(o) > 0):\n",
    "        numMatched += 1\n",
    "print(\"%d / %d reads matched\" % (numMatched, len(reads)))"
   ]
  },
  {
   "cell_type": "code",
   "execution_count": 6,
   "metadata": {},
   "outputs": [],
   "source": [
    "def reverseComplement(s):\n",
    "    complement = {'A':'T', 'C':'G', 'T':'A', 'G':'C', 'N':'N'}\n",
    "    ans = ''\n",
    "    for base in s:\n",
    "        ans = complement[base] + ans\n",
    "    return ans"
   ]
  },
  {
   "cell_type": "code",
   "execution_count": 7,
   "metadata": {},
   "outputs": [],
   "source": [
    "def readFastq(filename):\n",
    "    sequences = []\n",
    "    qualities = []\n",
    "    with open(filename) as fh:\n",
    "        while True:\n",
    "            fh.readline()\n",
    "            seq = fh.readline().rstrip()\n",
    "            fh.readline()\n",
    "            qua = fh.readline().rstrip()\n",
    "            if len(seq) == 0:\n",
    "                break\n",
    "            sequences.append(seq)\n",
    "            qualities.append(qua)\n",
    "    return sequences, qualities"
   ]
  },
  {
   "cell_type": "code",
   "execution_count": 8,
   "metadata": {},
   "outputs": [
    {
     "name": "stdout",
     "output_type": "stream",
     "text": [
      "932 / 1000 reads matched\n"
     ]
    }
   ],
   "source": [
    "reads, _ = readFastq(\"Wk1-Data/ERR266411_1.first1000.fastq\")\n",
    "\n",
    "numMatched = 0\n",
    "for r in reads:\n",
    "    r = r[:30]\n",
    "    o = naiveMatch(r, phix)\n",
    "    o.extend(naiveMatch(reverseComplement(r), phix))\n",
    "    if (len(o) > 0):\n",
    "        numMatched += 1\n",
    "print(\"%d / %d reads matched\" % (numMatched, len(reads)))"
   ]
  },
  {
   "cell_type": "code",
   "execution_count": 12,
   "metadata": {},
   "outputs": [],
   "source": [
    "def naiveWithRC(p, t):\n",
    "    occurances = []\n",
    "    rc = reverseComplement(p)\n",
    "    for i in range(len(t) - len(p) + 1):\n",
    "        match = True\n",
    "        for j in range(len(p)):\n",
    "            if t[i + j] != p[j]:\n",
    "                match = False\n",
    "                break\n",
    "        if match:\n",
    "            occurances.append(i)\n",
    "        else:\n",
    "            match = True\n",
    "            for j in range(len(rc)):\n",
    "                if t[i + j] != rc[j]:\n",
    "                    match = False\n",
    "                    break\n",
    "            if match:\n",
    "                occurances.append(i)\n",
    "    return occurances"
   ]
  },
  {
   "cell_type": "code",
   "execution_count": 13,
   "metadata": {},
   "outputs": [
    {
     "name": "stdout",
     "output_type": "stream",
     "text": [
      "[10, 23]\n"
     ]
    }
   ],
   "source": [
    "p = 'CCC'\n",
    "ten_as = 'AAAAAAAAAA'\n",
    "t = ten_as + 'CCC' + ten_as + 'GGG' + ten_as\n",
    "occurrences = naiveWithRC(p, t)\n",
    "print(occurrences)"
   ]
  },
  {
   "cell_type": "code",
   "execution_count": 14,
   "metadata": {},
   "outputs": [
    {
     "name": "stdout",
     "output_type": "stream",
     "text": [
      "[10, 24]\n"
     ]
    }
   ],
   "source": [
    "p = 'CGCG'\n",
    "t = ten_as + 'CGCG' + ten_as + 'CGCG' + ten_as\n",
    "occurrences = naiveWithRC(p, t)\n",
    "print(occurrences)"
   ]
  },
  {
   "cell_type": "code",
   "execution_count": 25,
   "metadata": {},
   "outputs": [
    {
     "name": "stdout",
     "output_type": "stream",
     "text": [
      "306\n",
      "156\n",
      "150\n"
     ]
    }
   ],
   "source": []
  },
  {
   "cell_type": "code",
   "execution_count": 27,
   "metadata": {},
   "outputs": [
    {
     "name": "stdout",
     "output_type": "stream",
     "text": [
      "195\n",
      "195\n"
     ]
    }
   ],
   "source": [
    "print(len(naiveWithRC(\"TTAA\", lambdaVirus)))\n",
    "print(len(naiveMatch(\"TTAA\", lambdaVirus)))"
   ]
  },
  {
   "cell_type": "code",
   "execution_count": 31,
   "metadata": {},
   "outputs": [
    {
     "name": "stdout",
     "output_type": "stream",
     "text": [
      "26028\n",
      "450\n"
     ]
    }
   ],
   "source": [
    "occurrences = naiveWithRC(\"ACTAAGT\", lambdaVirus)\n",
    "print(occurrences[0])\n",
    "occurrences = naiveWithRC(\"AGTCGA\", lambdaVirus)\n",
    "print(occurrences[0])"
   ]
  }
 ],
 "metadata": {
  "kernelspec": {
   "display_name": "Python 3",
   "language": "python",
   "name": "python3"
  },
  "language_info": {
   "codemirror_mode": {
    "name": "ipython",
    "version": 3
   },
   "file_extension": ".py",
   "mimetype": "text/x-python",
   "name": "python",
   "nbconvert_exporter": "python",
   "pygments_lexer": "ipython3",
   "version": "3.8.1"
  }
 },
 "nbformat": 4,
 "nbformat_minor": 4
}
