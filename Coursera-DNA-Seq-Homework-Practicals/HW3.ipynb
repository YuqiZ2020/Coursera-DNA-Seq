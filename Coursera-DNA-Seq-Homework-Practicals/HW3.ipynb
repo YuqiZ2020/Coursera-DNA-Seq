{
 "cells": [
  {
   "cell_type": "code",
   "execution_count": 1,
   "metadata": {},
   "outputs": [],
   "source": [
    "def readGenome(filename):\n",
    "    fullGenome = \"\"\n",
    "    with open(filename, 'r') as fh:\n",
    "        for line in fh:\n",
    "            if not (line[0] == '>'):\n",
    "                fullGenome += line.rstrip()\n",
    "    return fullGenome\n",
    "\n",
    "genome = readGenome('Wk3-Data/chr1.GRCh38.excerpt.fasta')"
   ]
  },
  {
   "cell_type": "code",
   "execution_count": 2,
   "metadata": {},
   "outputs": [],
   "source": [
    "def editDistanceWithPlaceSelection(word1: str, word2: str) -> int:\n",
    "        row = len(word1)\n",
    "        col = len(word2)\n",
    "        if row == 0:\n",
    "            return col\n",
    "        if col == 0:\n",
    "            return row\n",
    "        dp = [[0] * (col + 1) for _ in range(row + 1)]\n",
    "        for i in range(row + 1):\n",
    "            dp[i][0] = i\n",
    "        for i in range(col + 1):\n",
    "            dp[0][i] = 0\n",
    "        for i in range(1, row + 1):\n",
    "            for j in range(1, col + 1):\n",
    "                if word1[i - 1] == word2[j - 1]:\n",
    "                    replace = dp[i - 1][j - 1]\n",
    "                else:\n",
    "                    replace = dp[i - 1][j - 1] + 1\n",
    "                dp[i][j] = min(dp[i - 1][j] + 1, dp[i][j - 1] + 1, replace)\n",
    "        minNum = dp[row][0]\n",
    "        for i in range(col + 1):\n",
    "            if dp[row][i] < minNum:\n",
    "                minNum = dp[row][i]\n",
    "        return minNum"
   ]
  },
  {
   "cell_type": "code",
   "execution_count": 3,
   "metadata": {},
   "outputs": [
    {
     "data": {
      "text/plain": [
       "3"
      ]
     },
     "execution_count": 3,
     "metadata": {},
     "output_type": "execute_result"
    }
   ],
   "source": [
    "# Question 1\n",
    "p = 'GCTGATCGATCGTACG'\n",
    "editDistanceWithPlaceSelection(p, genome)"
   ]
  },
  {
   "cell_type": "code",
   "execution_count": 47,
   "metadata": {},
   "outputs": [
    {
     "data": {
      "text/plain": [
       "2"
      ]
     },
     "execution_count": 47,
     "metadata": {},
     "output_type": "execute_result"
    }
   ],
   "source": [
    "# Question 2\n",
    "p = 'GATTTACCAGATTGAG'\n",
    "editDistanceWithPlaceSelection(p, genome)"
   ]
  },
  {
   "cell_type": "code",
   "execution_count": 5,
   "metadata": {},
   "outputs": [],
   "source": [
    "def readFastq(filename):\n",
    "    sequences = []\n",
    "    qualities = []\n",
    "    with open(filename) as fh:\n",
    "        while True:\n",
    "            fh.readline()\n",
    "            seq = fh.readline().rstrip()\n",
    "            fh.readline()\n",
    "            qua = fh.readline().rstrip()\n",
    "            if len(seq) == 0:\n",
    "                break\n",
    "            sequences.append(seq)\n",
    "            qualities.append(qua)\n",
    "    return sequences, qualities"
   ]
  },
  {
   "cell_type": "code",
   "execution_count": 108,
   "metadata": {},
   "outputs": [],
   "source": [
    "reads, _ = readFastq(\"Wk3-Data/ERR266411_1.for_asm.fastq\")"
   ]
  },
  {
   "cell_type": "code",
   "execution_count": 100,
   "metadata": {},
   "outputs": [],
   "source": [
    "def buildSetsByKmer(reads, k = 30):\n",
    "    kmersLocation = {}\n",
    "    for i in range(len(reads)):\n",
    "        seq = reads[i]\n",
    "        for j in range(len(seq) - k + 1):\n",
    "            kmer = seq[j:j + k]\n",
    "            if kmer in kmersLocation:\n",
    "                idxList = kmersLocation.get(kmer)\n",
    "                idxList.add(i)\n",
    "                kmersLocation[kmer] = idxList\n",
    "            else:\n",
    "                kmersLocation[kmer] = set([i])\n",
    "    return kmersLocation"
   ]
  },
  {
   "cell_type": "code",
   "execution_count": 109,
   "metadata": {},
   "outputs": [],
   "source": [
    "KmerSet = buildSetsByKmer(reads, 30)"
   ]
  },
  {
   "cell_type": "code",
   "execution_count": 102,
   "metadata": {},
   "outputs": [],
   "source": [
    "def overlap(first, second, min_len = 3):\n",
    "    start = 0\n",
    "    while (start < len(first) - min_len + 1):\n",
    "        start = first.find(second[:min_len], start)\n",
    "        if (start == -1):\n",
    "            return 0\n",
    "        if second.startswith(first[start:]):\n",
    "            return len(first) - start\n",
    "        start += 1"
   ]
  },
  {
   "cell_type": "code",
   "execution_count": 103,
   "metadata": {},
   "outputs": [],
   "source": [
    "def OverlapMap(reads, k, kmersLoc):\n",
    "    overLaps = {}\n",
    "    for i in range(len(reads)):\n",
    "        seq = reads[i]\n",
    "        sufx = seq[-k:]\n",
    "        for j in kmersLoc[sufx]:\n",
    "            if i == j:\n",
    "                continue\n",
    "            t = overlap(reads[i], reads[j], k)\n",
    "            if t > 0:\n",
    "                overLaps[(i, j)] = t\n",
    "    return overLaps"
   ]
  },
  {
   "cell_type": "code",
   "execution_count": 110,
   "metadata": {},
   "outputs": [
    {
     "name": "stdout",
     "output_type": "stream",
     "text": [
      "904746\n",
      "7161\n"
     ]
    }
   ],
   "source": [
    "# Question 3, 4\n",
    "ans = OverlapMap(reads, 30, KmerSet)\n",
    "print(len(ans))\n",
    "distinctFirstNode = set()\n",
    "for (i, j), k in ans.items():\n",
    "    distinctFirstNode.add(i)\n",
    "print(len(distinctFirstNode))"
   ]
  },
  {
   "cell_type": "code",
   "execution_count": 105,
   "metadata": {},
   "outputs": [],
   "source": [
    "def naiveOverlapMap(reads, k):\n",
    "    overLaps = {}\n",
    "    for a, b in list(permutations(reads, 2)):\n",
    "        olen = overlap(a, b, k)\n",
    "        if olen > 0:\n",
    "            overLaps[(a, b)] = olen\n",
    "    return overLaps"
   ]
  },
  {
   "cell_type": "code",
   "execution_count": 106,
   "metadata": {},
   "outputs": [
    {
     "data": {
      "text/plain": [
       "1130"
      ]
     },
     "execution_count": 106,
     "metadata": {},
     "output_type": "execute_result"
    }
   ],
   "source": [
    "len(naiveOverlapMap(reads, 30))"
   ]
  },
  {
   "cell_type": "code",
   "execution_count": null,
   "metadata": {},
   "outputs": [],
   "source": []
  },
  {
   "cell_type": "code",
   "execution_count": null,
   "metadata": {},
   "outputs": [],
   "source": []
  },
  {
   "cell_type": "code",
   "execution_count": null,
   "metadata": {},
   "outputs": [],
   "source": []
  }
 ],
 "metadata": {
  "kernelspec": {
   "display_name": "Python 3",
   "language": "python",
   "name": "python3"
  },
  "language_info": {
   "codemirror_mode": {
    "name": "ipython",
    "version": 3
   },
   "file_extension": ".py",
   "mimetype": "text/x-python",
   "name": "python",
   "nbconvert_exporter": "python",
   "pygments_lexer": "ipython3",
   "version": "3.8.1"
  }
 },
 "nbformat": 4,
 "nbformat_minor": 4
}
