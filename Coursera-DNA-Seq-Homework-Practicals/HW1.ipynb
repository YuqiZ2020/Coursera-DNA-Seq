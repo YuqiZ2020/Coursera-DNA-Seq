{
 "cells": [
  {
   "cell_type": "code",
   "execution_count": 5,
   "metadata": {},
   "outputs": [],
   "source": [
    "def readGenome(filename):\n",
    "    fullGenome = \"\"\n",
    "    with open(filename, 'r') as fh:\n",
    "        for line in fh:\n",
    "            if not (line[0] == '>'):\n",
    "                fullGenome += line.rstrip()\n",
    "    return fullGenome"
   ]
  },
  {
   "cell_type": "code",
   "execution_count": 2,
   "metadata": {},
   "outputs": [],
   "source": [
    "def naiveMatch(p, t):\n",
    "    occurances = []\n",
    "    for i in range(len(t) - len(p) + 1):\n",
    "        match = True\n",
    "        for j in range(len(p)):\n",
    "            if t[i + j] != p[j]:\n",
    "                match = False\n",
    "                break\n",
    "        if match:\n",
    "            occurances.append(i)\n",
    "    return occurances"
   ]
  },
  {
   "cell_type": "code",
   "execution_count": 3,
   "metadata": {},
   "outputs": [],
   "source": [
    "def reverseComplement(s):\n",
    "    complement = {'A':'T', 'C':'G', 'T':'A', 'G':'C', 'N':'N'}\n",
    "    ans = ''\n",
    "    for base in s:\n",
    "        ans = complement[base] + ans\n",
    "    return ans"
   ]
  },
  {
   "cell_type": "code",
   "execution_count": 4,
   "metadata": {},
   "outputs": [],
   "source": [
    "def readFastq(filename):\n",
    "    sequences = []\n",
    "    qualities = []\n",
    "    with open(filename) as fh:\n",
    "        while True:\n",
    "            fh.readline()\n",
    "            seq = fh.readline().rstrip()\n",
    "            fh.readline()\n",
    "            qua = fh.readline().rstrip()\n",
    "            if len(seq) == 0:\n",
    "                break\n",
    "            sequences.append(seq)\n",
    "            qualities.append(qua)\n",
    "    return sequences, qualities"
   ]
  },
  {
   "cell_type": "code",
   "execution_count": 6,
   "metadata": {},
   "outputs": [],
   "source": [
    "def naiveWithRC(p, t):\n",
    "    occurances = []\n",
    "    rc = reverseComplement(p)\n",
    "    for i in range(len(t) - len(p) + 1):\n",
    "        match = True\n",
    "        for j in range(len(p)):\n",
    "            if t[i + j] != p[j]:\n",
    "                match = False\n",
    "                break\n",
    "        if match:\n",
    "            occurances.append(i)\n",
    "        else:\n",
    "            match = True\n",
    "            for j in range(len(rc)):\n",
    "                if t[i + j] != rc[j]:\n",
    "                    match = False\n",
    "                    break\n",
    "            if match:\n",
    "                occurances.append(i)\n",
    "    return occurances"
   ]
  },
  {
   "cell_type": "code",
   "execution_count": 7,
   "metadata": {},
   "outputs": [
    {
     "name": "stdout",
     "output_type": "stream",
     "text": [
      "306\n",
      "156\n",
      "150\n"
     ]
    }
   ],
   "source": [
    "# Question 1\n",
    "lambdaVirus = readGenome(\"Wk1-Data/lambda_virus.fa\")\n",
    "occurrences = naiveWithRC(\"AGGT\", lambdaVirus)\n",
    "print(len(occurrences))\n",
    "\n",
    "print(len(naiveMatch(\"ACCT\", lambdaVirus)))\n",
    "print(len(naiveMatch(\"AGGT\", lambdaVirus)))"
   ]
  },
  {
   "cell_type": "code",
   "execution_count": 8,
   "metadata": {},
   "outputs": [
    {
     "name": "stdout",
     "output_type": "stream",
     "text": [
      "195\n",
      "195\n"
     ]
    }
   ],
   "source": [
    "# Question 2\n",
    "print(len(naiveWithRC(\"TTAA\", lambdaVirus)))\n",
    "print(len(naiveMatch(\"TTAA\", lambdaVirus)))"
   ]
  },
  {
   "cell_type": "code",
   "execution_count": 9,
   "metadata": {},
   "outputs": [
    {
     "name": "stdout",
     "output_type": "stream",
     "text": [
      "26028\n",
      "450\n"
     ]
    }
   ],
   "source": [
    "# Question 3\n",
    "occurrences = naiveWithRC(\"ACTAAGT\", lambdaVirus)\n",
    "print(occurrences[0])\n",
    "# Question 4\n",
    "occurrences = naiveWithRC(\"AGTCGA\", lambdaVirus)\n",
    "print(occurrences[0])"
   ]
  },
  {
   "cell_type": "code",
   "execution_count": 14,
   "metadata": {},
   "outputs": [],
   "source": [
    "def naiveMatch2MM(p, t):\n",
    "    occurances = []\n",
    "    for i in range(len(t) - len(p) + 1):\n",
    "        mismatch = 0\n",
    "        for j in range(len(p)):\n",
    "            if t[i + j] != p[j]:\n",
    "                mismatch += 1\n",
    "                if mismatch > 2:\n",
    "                    break\n",
    "        if mismatch < 3:\n",
    "            occurances.append(i)\n",
    "    return occurances"
   ]
  },
  {
   "cell_type": "code",
   "execution_count": 17,
   "metadata": {},
   "outputs": [
    {
     "name": "stdout",
     "output_type": "stream",
     "text": [
      "191\n",
      "49\n"
     ]
    }
   ],
   "source": [
    "# Question 5\n",
    "print(len(naiveMatch2MM(\"TTCAAGCC\", lambdaVirus)))\n",
    "# Question 6\n",
    "print(naiveMatch2MM(\"AGGAGGTT\", lambdaVirus)[0])"
   ]
  },
  {
   "cell_type": "code",
   "execution_count": 33,
   "metadata": {},
   "outputs": [
    {
     "name": "stdout",
     "output_type": "stream",
     "text": [
      "100\n",
      "1000\n",
      "[38.435, 38.46, 38.4, 38.428, 38.417, 38.382, 38.362, 38.364, 38.325, 38.343, 38.194, 38.154, 38.089, 38.152, 38.153, 38.099, 38.055, 38.041, 38.067, 38.15, 38.087, 37.989, 38.009, 37.909, 38.028, 37.576, 37.514, 37.503, 37.578, 37.552, 37.629, 37.555, 37.548, 37.433, 37.402, 37.343, 37.198, 37.126, 37.158, 36.904, 36.742, 36.677, 36.645, 36.493, 36.509, 36.375, 36.205, 35.974, 35.847, 35.673, 34.832, 34.739, 34.399, 34.402, 34.025, 33.025, 32.882, 32.741, 32.573, 32.224, 30.805, 30.666, 30.343, 30.131, 29.463, 17.891, 4.526, 17.881, 17.865, 17.852, 17.466, 17.131, 17.134, 17.098, 16.852, 23.745, 23.958, 23.221, 22.902, 22.366, 20.904, 20.584, 20.383, 19.767, 19.095, 18.061, 17.757, 17.152, 16.972, 16.286, 14.811, 14.679, 14.31, 14.152, 13.734, 12.538, 12.278, 12.179, 11.676, 11.561]\n",
      "66\n"
     ]
    }
   ],
   "source": [
    "# Question 7\n",
    "reads, qual = readFastq(\"Wk1-Data/ERR037900_1.first1000.fastq\")\n",
    "print(len(reads[0]))\n",
    "print(len(reads))\n",
    "\n",
    "def phred33toQ(qua):\n",
    "    return ord(qua) - 33\n",
    "\n",
    "def qualByPos(qualitiesList):\n",
    "    quaAtPos = [0] * 100\n",
    "    total = [0] * 100\n",
    "    for qua in qualitiesList:\n",
    "        for i in range(len(qua)):\n",
    "            qScore = phred33toQ(qua[i])\n",
    "            quaAtPos[i] += qScore\n",
    "            total[i] += 1\n",
    "    for i in range(len(total)):\n",
    "        if (total[i] > 0):\n",
    "            quaAtPos[i] /= float(total[i])\n",
    "    return quaAtPos\n",
    "\n",
    "AvgQualByPos = qualByPos(qual)\n",
    "print(AvgQualByPos)\n",
    "print(AvgQualByPos.index(min(AvgQualByPos)))"
   ]
  }
 ],
 "metadata": {
  "kernelspec": {
   "display_name": "Python 3",
   "language": "python",
   "name": "python3"
  },
  "language_info": {
   "codemirror_mode": {
    "name": "ipython",
    "version": 3
   },
   "file_extension": ".py",
   "mimetype": "text/x-python",
   "name": "python",
   "nbconvert_exporter": "python",
   "pygments_lexer": "ipython3",
   "version": "3.8.1"
  }
 },
 "nbformat": 4,
 "nbformat_minor": 4
}
